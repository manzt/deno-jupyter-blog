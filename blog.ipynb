{
 "cells": [
  {
   "cell_type": "markdown",
   "id": "e2b41b55-7cfb-4f03-bca8-5dc203ae0705",
   "metadata": {},
   "source": [
    "## Overview\n",
    "\n",
    "- High-level: Deno has a Jupyter kernel and why it’s exciting\n",
    "- **why**: Use Deno to explore and analyze datasets\n",
    "    - Combining backend (data wrangling) and frontend (interactive visualization) in a single environment"
   ]
  },
  {
   "cell_type": "markdown",
   "id": "d01b2a3d-d859-4eab-946d-f47e58114da4",
   "metadata": {},
   "source": [
    "## The Dataset  \n",
    "\n",
    "The **National Gallery of Art (NGA) [Open Data Program](https://www.nga.gov/open-access-images/open-data.html)** provides an up-to-date archive of over **130,000 artworks** and their creators, available [on GitHub](https://github.com/NationalGalleryOfArt/opendata/tree/main/data).  \n",
    "\n",
    "The dataset is structured as a **relational database**, exported as individual CSV files. These files contain linked information on artworks, artists, and images. We will use this dataset to construct an **in-memory representation**, enabling **exploratory data analysis** within the notebook.  \n",
    "\n",
    "We will focus on three key tables:  \n",
    "\n",
    "- **`objects.csv`** – Core metadata on artworks, including titles, dates, materials, and classifications.  \n",
    "- **`constituents.csv`** – Information on artists, such as names, nationalities, and lifespans.  \n",
    "- **`published_images.csv`** – Links to artwork images via the NGA’s **IIIF API**.  \n",
    "\n",
    "By leveraging the **relational structure**, we will **join these tables** to create a single dataset that integrates artworks, artist details, and image links. This dataset will serve as the foundation for **analysis and visualization** within the notebook.  "
   ]
  },
  {
   "cell_type": "markdown",
   "id": "8108619e-b849-4b80-9431-656a79ca24ec",
   "metadata": {},
   "source": [
    "## Wrangling the data\n",
    "\n",
    "- parse with csv (show it's really big and tough to build up relationships)\n",
    "- motivate why use polars (relational tables)"
   ]
  },
  {
   "cell_type": "code",
   "execution_count": null,
   "id": "9c8b1072-fd19-4a0e-ac74-64d80a2e6871",
   "metadata": {},
   "outputs": [],
   "source": [
    "// With JSR / Web stuff\n",
    "\n",
    "import * as csv from \"jsr:@std/csv@1.0.5\";\n",
    "import * as streams from \"jsr:@std/streams@1.0.9\";\n",
    "\n",
    "let baseUrl = new URL(\n",
    "    \"https://github.com/NationalGalleryOfArt/opendata/raw/refs/heads/main/data/\"\n",
    ");\n",
    "\n",
    "let response = await fetch(new URL(\"objects.csv\", baseUrl));\n",
    "\n",
    "let objects = await Array.fromAsync(\n",
    "    response.body\n",
    "        .pipeThrough(new TextDecoderStream())\n",
    "        .pipeThrough(new csv.CsvParseStream({ skipFirstRow: true }))\n",
    "        .pipeThrough(new streams.LimitedTransformStream({ size: 10 })), // Just parse the first bit (takes too long for all of it)\n",
    "    (row) => ({\n",
    "        objectid: row.objectid,\n",
    "        title: row.title,\n",
    "        startyear: row.startyear,\n",
    "        endyear: row.endyear,\n",
    "        timespan: row.visualbrowsertimespan,\n",
    "\t\tmedium: row.medium,\n",
    "\t\tattribution: row.attribution,\n",
    "        classification:  row.visualbrowserclassification,\n",
    "    })\n",
    ");\n",
    "\n",
    "objects.slice(0, 3)"
   ]
  },
  {
   "cell_type": "code",
   "execution_count": null,
   "id": "52cafe3a-d54f-4024-a81b-1b5a9924cace",
   "metadata": {},
   "outputs": [],
   "source": [
    "// Why Polars + how to with Polars\n",
    "import * as pl from \"npm:nodejs-polars@0.18.0\";\n",
    "\n",
    "let response = await fetch(new URL(\"objects.csv\", baseUrl));\n",
    "let objects = pl.readCSV(await response.text(), { quoteChar: \"\\\"\" })\n",
    "    .select(\n",
    "        \"objectid\",\n",
    "        \"title\",\n",
    "        \"beginyear\",\n",
    "        \"endyear\",\n",
    "        pl.col(\"visualbrowsertimespan\").alias(\"timespan\"),\n",
    "        \"medium\",\n",
    "        \"attribution\",\n",
    "        pl.col(\"visualbrowserclassification\").as(\"classification\"),\n",
    "    );\n",
    "\n",
    "objects.head();"
   ]
  },
  {
   "cell_type": "code",
   "execution_count": null,
   "id": "7f6e9961",
   "metadata": {},
   "outputs": [],
   "source": [
    "let response = await fetch(new URL(\"constituents.csv\", baseUrl));\n",
    "let constituents = pl.readCSV(await response.text(), { quoteChar: \"\\\"\" })\n",
    "    .select(\n",
    "        \"constituentid\",\n",
    "        pl.col(\"forwarddisplayname\").alias(\"name\"),\n",
    "        pl.col(\"visualbrowsernationality\").alias(\"nationality\"),\n",
    "    );\n",
    "\n",
    "constituents.head()"
   ]
  },
  {
   "cell_type": "code",
   "execution_count": null,
   "id": "ca698a52-a941-40ff-8e95-2b3f420c6fa1",
   "metadata": {},
   "outputs": [],
   "source": [
    "let response = await fetch(new URL(\"objects_constituents.csv\", baseUrl));\n",
    "let objectToArtist = pl.readCSV(await response.text(), { quoteChar: \"\\\"\" })\n",
    "    .filter(pl.col(\"roletype\").eq(pl.lit(\"artist\")))\n",
    "    .groupBy(\"objectid\")\n",
    "    .first(\"constituentid\") // first artist listed for object\n",
    "    .select(\n",
    "        \"objectid\",\n",
    "        \"constituentid\", \n",
    "        \"role\",\n",
    "    )\n",
    "\n",
    "objectToArtist.head()"
   ]
  },
  {
   "cell_type": "code",
   "execution_count": null,
   "id": "0407789f-b5b8-4f1e-b4ad-a8ee68015b6e",
   "metadata": {},
   "outputs": [],
   "source": [
    "let response = await fetch(new URL(\"published_images.csv\", baseUrl));\n",
    "let publishedImages = pl.readCSV(await response.text(), { quoteChar: \"\\\"\" })\n",
    "    .select(\n",
    "        pl.col(\"depictstmsobjectid\").alias(\"objectid\"),\n",
    "        // pl.col(\"iiifurl\").alias(\"url\"),\n",
    "        // pl.col(\"iiifthumburl\").alias(\"thumbnail_url\"),\n",
    "        pl.format(\"https://api.nga.gov/iiif/{}/full/full/0/default.jpg\", pl.col(\"uuid\")).alias(\"image_url\"),\n",
    "    )\n",
    "publishedImages.head()"
   ]
  },
  {
   "cell_type": "code",
   "execution_count": null,
   "id": "e2fc25c6-1748-466c-b1f8-a54237d96b2c",
   "metadata": {},
   "outputs": [],
   "source": [
    "// full data frame\n",
    "\n",
    "let df = publishedImages\n",
    "    .join(objects, { on: \"objectid\" })\n",
    "    .join(objectToArtist, { on: \"objectid\" })\n",
    "    .join(constituents, { on: \"constituentid\" })\n",
    "    .select(pl.exclude(\"constituentid\"))\n",
    "\n",
    "console.log(df.shape)\n",
    "df.head()"
   ]
  },
  {
   "cell_type": "markdown",
   "id": "771810d2-5298-4226-a844-ff511949e347",
   "metadata": {},
   "source": [
    "## Interactive tables"
   ]
  },
  {
   "cell_type": "code",
   "execution_count": null,
   "id": "cf53b339",
   "metadata": {},
   "outputs": [],
   "source": [
    "import { widget } from \"jsr:@anywidget/deno@0.1.2\";\n",
    "import * as base64 from \"jsr:@std/encoding@1.0.7/base64\";\n",
    "\n",
    "function agGrid(df: pl.DataFrame) {\n",
    "    return widget({\n",
    "    \tstate: {\n",
    "            // TODO: Jupyter Widgets support binary data, but I'm not sure if it's implemented in Deno yet\n",
    "            ipc: base64.encodeBase64(df.writeIPC()),\n",
    "            _css: \"https://esm.sh/ag-grid-community@33.0.4/styles/ag-grid.css\"\n",
    "        },\n",
    "    \timports: `\n",
    "import * as agGrid from \"https://esm.sh/ag-grid-community@33.0.4\";\n",
    "import * as flech from \"https://esm.sh/@uwdata/flechette@1.1.2\";\n",
    "import * as base64 from \"https://esm.sh/jsr/@std/encoding@1.0.7/base64\";\n",
    "    `,\n",
    "        // @ts-expect-error - function body is serialized to the front end with imports from above\n",
    "    \trender: ({ model, el }) => {\n",
    "            agGrid.ModuleRegistry.registerModules([agGrid.AllCommunityModule]);\n",
    "            el.style.height = \"400px\";\n",
    "            let bytes = base64.decodeBase64(model.get(\"ipc\"));\n",
    "            let table = flech.tableFromIPC(bytes);\n",
    "            agGrid.createGrid(el, {\n",
    "                columnDefs: table.names.map(field => ({ field })),\n",
    "                rowData: table.toArray(),\n",
    "                pagination: true,\n",
    "           });\n",
    "        },\n",
    "    });\n",
    "}\n",
    "\n",
    "function quak(df: pl.DataFrame) {\n",
    "    return widget({\n",
    "        // TODO: Jupyter Widgets support binary data, but I'm not sure if it's implemented in Deno yet\n",
    "    \tstate: { parquet: base64.encodeBase64(df.writeParquet()) },\n",
    "    \timports: `\n",
    "import * as mosaic from \"https://esm.sh/@uwdata/mosaic-core@~0.11?bundle\";\n",
    "import * as base64 from \"https://esm.sh/jsr/@std/encoding@1.0.7/base64\";\n",
    "import * as quak from \"https://esm.sh/jsr/@manzt/quak@0.0.1\";\n",
    "    `,\n",
    "        // @ts-expect-error - function body is serialized to the front end with imports from above\n",
    "    \trender: async ({ model, el }) => {\n",
    "            let connector = mosaic.wasmConnector();\n",
    "            let db = await connector.getDuckDB();\n",
    "            let coordinator = new mosaic.Coordinator();\n",
    "            coordinator.databaseConnector(connector);\n",
    "            \n",
    "            await db.registerFileBuffer(\"df.parquet\", base64.decodeBase64(model.get(\"parquet\")));\n",
    "            await coordinator.exec([`CREATE OR REPLACE TABLE \"df\" AS SELECT * FROM \"df.parquet\"`])\n",
    "            \n",
    "            let dt = await quak.datatable(\"df\", { coordinator, height: 400 });\n",
    "            el.appendChild(dt.node());\n",
    "        },\n",
    "    });\n",
    "}\n"
   ]
  },
  {
   "cell_type": "code",
   "execution_count": null,
   "id": "d8acb22d-0dc8-4a6d-9122-a96df2182032",
   "metadata": {},
   "outputs": [],
   "source": [
    "// ag-grid seems to break down with >10,000\n",
    "agGrid(df.head(100))"
   ]
  },
  {
   "cell_type": "code",
   "execution_count": null,
   "id": "46035838-30b9-4844-91c4-52c3c3855d2c",
   "metadata": {},
   "outputs": [],
   "source": [
    "// quak can handle it all (keeps as compressed parquet in the front-end)\n",
    "quak(df.head(100))"
   ]
  },
  {
   "cell_type": "markdown",
   "id": "d7731b48-29ca-4a20-9949-391b8b739fc7",
   "metadata": {},
   "source": [
    "## Plotting\n",
    "\n",
    "- explain deps observable/plot\n",
    "- plot some different views / EDA"
   ]
  },
  {
   "cell_type": "code",
   "execution_count": null,
   "id": "b24377a3-cc7c-40dd-b01e-194d02582cd1",
   "metadata": {},
   "outputs": [],
   "source": [
    "import * as Plot from \"npm:@observablehq/plot\";\n",
    "import * as linkedom from \"npm:linkedom\";\n",
    "\n",
    "// Plot requires a `document` instance for each plot, which we need to fill in Deno...\n",
    "function Document() {\n",
    "    return linkedom.parseHTML(\"<html></html>\").document;\n",
    "}\n",
    "\n",
    "let records = df.toRecords();\n",
    "\n",
    "Plot.plot({\n",
    "  marks: [\n",
    "    Plot.barX(\n",
    "      records,\n",
    "      Plot.groupY(\n",
    "        { x: \"count\" },\n",
    "        { y: \"classification\", sort: { y: \"-x\" } }\n",
    "      )\n",
    "    )\n",
    "  ],\n",
    "  marginLeft: 125,\n",
    "  document: new Document()\n",
    "})"
   ]
  },
  {
   "cell_type": "code",
   "execution_count": null,
   "id": "b0b0f913-6261-4a07-a304-703d9177898e",
   "metadata": {},
   "outputs": [],
   "source": [
    "Plot.plot({\n",
    "  marks: [\n",
    "    Plot.barX(\n",
    "      records,\n",
    "      Plot.groupY(\n",
    "        { x: \"count\" },\n",
    "        { y: \"nationality\", sort: { y: \"-x\" } }\n",
    "      )\n",
    "    )\n",
    "  ],\n",
    "  marginLeft: 125,\n",
    "  document: new Document()\n",
    "})"
   ]
  },
  {
   "cell_type": "code",
   "execution_count": null,
   "id": "0e8bbf29-9aea-4a13-af1d-4b03ba37212b",
   "metadata": {},
   "outputs": [],
   "source": []
  }
 ],
 "metadata": {
  "kernelspec": {
   "display_name": "Deno",
   "language": "typescript",
   "name": "deno"
  },
  "language_info": {
   "codemirror_mode": "typescript",
   "file_extension": ".ts",
   "mimetype": "text/x.typescript",
   "name": "typescript",
   "nbconvert_exporter": "script",
   "pygments_lexer": "typescript",
   "version": "5.6.2"
  }
 },
 "nbformat": 4,
 "nbformat_minor": 5
}
